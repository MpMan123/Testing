{
  "nbformat": 4,
  "nbformat_minor": 0,
  "metadata": {
    "colab": {
      "provenance": [],
      "authorship_tag": "ABX9TyOgYeFm7XvOBxlXvTyFDnD5",
      "include_colab_link": true
    },
    "kernelspec": {
      "name": "python3",
      "display_name": "Python 3"
    },
    "language_info": {
      "name": "python"
    }
  },
  "cells": [
    {
      "cell_type": "markdown",
      "metadata": {
        "id": "view-in-github",
        "colab_type": "text"
      },
      "source": [
        "<a href=\"https://colab.research.google.com/github/MpMan123/Testing/blob/main/notebooks/hello.ipynb\" target=\"_parent\"><img src=\"https://colab.research.google.com/assets/colab-badge.svg\" alt=\"Open In Colab\"/></a>"
      ]
    },
    {
      "cell_type": "markdown",
      "source": [],
      "metadata": {
        "id": "_SxX_QNqD1yY"
      }
    },
    {
      "cell_type": "markdown",
      "source": [
        "hello\n"
      ],
      "metadata": {
        "id": "sdi9orQdCyGu"
      }
    },
    {
      "cell_type": "code",
      "source": [
        "print(\"hello\")"
      ],
      "metadata": {
        "id": "XO6MSkyUC0p8"
      },
      "execution_count": null,
      "outputs": []
    },
    {
      "cell_type": "code",
      "source": [
        "from transformers import pipeline\n",
        "\n",
        "analyze = pipeline(\"sentiment-analysis\")\n",
        "analyze(\"Hello, i am Phuoc\")"
      ],
      "metadata": {
        "id": "4VsKZHOxDGlQ"
      },
      "execution_count": null,
      "outputs": []
    }
  ]
}