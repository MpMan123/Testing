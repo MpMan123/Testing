{
  "nbformat": 4,
  "nbformat_minor": 0,
  "metadata": {
    "colab": {
      "provenance": [],
      "authorship_tag": "ABX9TyOgYeFm7XvOBxlXvTyFDnD5",
      "include_colab_link": true
    },
    "kernelspec": {
      "name": "python3",
      "display_name": "Python 3"
    },
    "language_info": {
      "name": "python"
    }
  },
  "cells": [
    {
      "cell_type": "markdown",
      "metadata": {
        "id": "view-in-github",
        "colab_type": "text"
      },
      "source": [
        "<a href=\"https://colab.research.google.com/github/MpMan123/Testing/blob/main/notebooks/hello.ipynb\" target=\"_parent\"><img src=\"https://colab.research.google.com/assets/colab-badge.svg\" alt=\"Open In Colab\"/></a>"
      ]
    },
    {
      "cell_type": "markdown",
      "source": [],
      "metadata": {
        "id": "_SxX_QNqD1yY"
      }
    },
    {
      "cell_type": "markdown",
      "source": [
        "hello\n"
      ],
      "metadata": {
        "id": "sdi9orQdCyGu"
      }
    },
    {
      "cell_type": "code",
      "source": [
        "print(\"hello\")"
      ],
      "metadata": {
        "id": "XO6MSkyUC0p8"
      },
      "execution_count": null,
      "outputs": []
    },
    {
      "cell_type": "code",
      "source": [
        "from transformers import pipeline\n",
        "\n",
        "analyze = pipeline(\"sentiment-analysis\")\n",
        "analyze(\"Hello, i am Phuoc\")"
      ],
      "metadata": {
        "colab": {
          "base_uri": "https://localhost:8080/",
          "height": 339,
          "referenced_widgets": [
            "bb756264525f4e5ebf3047652d00efc1",
            "e91918cfa95e4bf285e64270e31d9e47",
            "b6a4aa5ba3354d649049750c8a3f5bb4",
            "29547354a9874d2ebcb55701d7c41a34",
            "b43fd5f1455b41c9aead66e9bae6e9cd",
            "ba985d1c006044c6a2160dd67d0adbcd",
            "08e32803656d4019b640392e12e7551c",
            "e95f7c7a6c244aa88e5c789a56d7e9ac",
            "056e8565386b4169abd225d4d7ac4ff6",
            "349f4f8c453143669b7f63d1dd7431de",
            "b445dfa29c494c5889fb4434e232f2a1",
            "66f3f08bdfd446159ca62f6648b56938",
            "bb463170d3a44302979b9fbfcd3020cd",
            "2263fc07f4604e56a174849677767399",
            "88d0ebabb257433886f5d3617cb8ed48",
            "4bd4c1dc5ee744f6aa4757804522f1b2",
            "75950cc4212d454ebd4be16d2687a733",
            "b0c3418f29944468a7da4ff2155d7399",
            "4e11f20ce1a8498d9e143cc4feac7b53",
            "5a043d92f7df4d00ac5f9f90b543d639",
            "82a518636d164e9690c6fb702bc92b60",
            "4ebac948bd1b499ca4e77f8b6facf658",
            "0f5c707b18e8441e8ed0f72fc934e2c0",
            "d5237be9f91f4451bb2a1b7da3dc2ab0",
            "2e4e0582f22a4788b3cd66ea8873094d",
            "55ab20c34285402bac202822ef7d4b59",
            "68bdcd3610bc47c7a73b8d64e0c4e912",
            "f58375b744714e069844bbcabec0e7a7",
            "04c2aec4dad7408986f6f04834f80717",
            "e78029ded5f842b6ac7b2486559cf0f2",
            "3964fd398fa2441188d450057f7a10bf",
            "31e40b14fbc24545bf35274441b6e225",
            "3c40b267bd914803ab324039a8e41d07",
            "99144e49d12e4f92b6d2e89f27e245d1",
            "c62213aa8f664048b77f42ddda961c32",
            "e810e614a8ef41b998090c5a64bd28b1",
            "fd72892936764d1da64a5f9f4f699e56",
            "57f781a8206348b9bccdc4956f5a1480",
            "77221938a65b495f9a3dffc122a2abd8",
            "970260072ae54c1193ce01cccaa109cf",
            "3b1622ceaada475b98315c337341e3b4",
            "23c765e792774c59a2f495a88f2ba026",
            "395666169bc74bca8875e37b5dfb4437",
            "8f5e411eea7546409bc15f420308c8b1"
          ]
        },
        "collapsed": true,
        "id": "4VsKZHOxDGlQ",
        "outputId": "7ab6830a-27d3-42a9-cca0-c7c538c60478"
      },
      "execution_count": 1,
      "outputs": [
        {
          "output_type": "stream",
          "name": "stderr",
          "text": [
            "No model was supplied, defaulted to distilbert/distilbert-base-uncased-finetuned-sst-2-english and revision 714eb0f (https://huggingface.co/distilbert/distilbert-base-uncased-finetuned-sst-2-english).\n",
            "Using a pipeline without specifying a model name and revision in production is not recommended.\n",
            "/usr/local/lib/python3.12/dist-packages/huggingface_hub/utils/_auth.py:94: UserWarning: \n",
            "The secret `HF_TOKEN` does not exist in your Colab secrets.\n",
            "To authenticate with the Hugging Face Hub, create a token in your settings tab (https://huggingface.co/settings/tokens), set it as secret in your Google Colab and restart your session.\n",
            "You will be able to reuse this secret in all of your notebooks.\n",
            "Please note that authentication is recommended but still optional to access public models or datasets.\n",
            "  warnings.warn(\n"
          ]
        },
        {
          "output_type": "display_data",
          "data": {
            "text/plain": [
              "config.json:   0%|          | 0.00/629 [00:00<?, ?B/s]"
            ],
            "application/vnd.jupyter.widget-view+json": {
              "version_major": 2,
              "version_minor": 0,
              "model_id": "bb756264525f4e5ebf3047652d00efc1"
            }
          },
          "metadata": {}
        },
        {
          "output_type": "display_data",
          "data": {
            "text/plain": [
              "model.safetensors:   0%|          | 0.00/268M [00:00<?, ?B/s]"
            ],
            "application/vnd.jupyter.widget-view+json": {
              "version_major": 2,
              "version_minor": 0,
              "model_id": "66f3f08bdfd446159ca62f6648b56938"
            }
          },
          "metadata": {}
        },
        {
          "output_type": "display_data",
          "data": {
            "text/plain": [
              "tokenizer_config.json:   0%|          | 0.00/48.0 [00:00<?, ?B/s]"
            ],
            "application/vnd.jupyter.widget-view+json": {
              "version_major": 2,
              "version_minor": 0,
              "model_id": "0f5c707b18e8441e8ed0f72fc934e2c0"
            }
          },
          "metadata": {}
        },
        {
          "output_type": "display_data",
          "data": {
            "text/plain": [
              "vocab.txt: 0.00B [00:00, ?B/s]"
            ],
            "application/vnd.jupyter.widget-view+json": {
              "version_major": 2,
              "version_minor": 0,
              "model_id": "99144e49d12e4f92b6d2e89f27e245d1"
            }
          },
          "metadata": {}
        },
        {
          "output_type": "stream",
          "name": "stderr",
          "text": [
            "Device set to use cpu\n"
          ]
        },
        {
          "output_type": "execute_result",
          "data": {
            "text/plain": [
              "[{'label': 'POSITIVE', 'score': 0.9919378161430359}]"
            ]
          },
          "metadata": {},
          "execution_count": 1
        }
      ]
    }
  ]
}